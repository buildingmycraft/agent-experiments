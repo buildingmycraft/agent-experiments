{
 "cells": [
  {
   "cell_type": "markdown",
   "metadata": {},
   "source": [
    "# Test setup for local inference using phi model"
   ]
  },
  {
   "cell_type": "code",
   "metadata": {
    "ExecuteTime": {
     "end_time": "2024-10-17T14:23:00.430861Z",
     "start_time": "2024-10-17T14:23:00.428872Z"
    }
   },
   "source": [
    "model_id = \"microsoft/Phi-3-mini-4k-instruct\"\n",
    "model_name = \"microsoft/Phi-3-mini-4k-instruct\""
   ],
   "outputs": [],
   "execution_count": 1
  },
  {
   "cell_type": "markdown",
   "metadata": {},
   "source": [
    "## Download and instantiate model"
   ]
  },
  {
   "cell_type": "code",
   "metadata": {
    "ExecuteTime": {
     "end_time": "2024-10-17T14:25:03.237554Z",
     "start_time": "2024-10-17T14:24:56.350663Z"
    }
   },
   "source": [
    "import torch\n",
    "from transformers import AutoModelForCausalLM, AutoTokenizer, pipeline\n",
    "\n",
    "torch.random.manual_seed(0)\n",
    "model = AutoModelForCausalLM.from_pretrained(\n",
    "    model_id,\n",
    "    device_map=\"cuda\",\n",
    "    torch_dtype=\"auto\",\n",
    "    trust_remote_code=True,\n",
    ")\n",
    "\n",
    "tokenizer = AutoTokenizer.from_pretrained(model_id)\n",
    "\n",
    "pipe = pipeline(\n",
    "    \"text-generation\",\n",
    "    model=model,\n",
    "    tokenizer=tokenizer,\n",
    ")"
   ],
   "outputs": [
    {
     "data": {
      "text/plain": [
       "Loading checkpoint shards:   0%|          | 0/2 [00:00<?, ?it/s]"
      ],
      "application/vnd.jupyter.widget-view+json": {
       "version_major": 2,
       "version_minor": 0,
       "model_id": "9a0154323ff64ed5963b524006cbe5d2"
      }
     },
     "metadata": {},
     "output_type": "display_data"
    }
   ],
   "execution_count": 2
  },
  {
   "cell_type": "markdown",
   "metadata": {},
   "source": [
    "## Example 1: Outfit builder"
   ]
  },
  {
   "cell_type": "code",
   "metadata": {
    "ExecuteTime": {
     "end_time": "2024-10-17T14:25:27.161574Z",
     "start_time": "2024-10-17T14:25:13.903191Z"
    }
   },
   "source": [
    "SYSTEM_PROMPT = \"\"\"You are a fashion designer helping a client choose an outfit. You will be provided a prompt by the user and you will respond with some options for outfit combinations.\n",
    "\n",
    "Below is an example exchange between you and a user:<|end|>\n",
    "<|user|>\n",
    "I'm a short, curvy man with a muscular build. I opt for relaxed, comfortable clothing like stretch jeans and loose shirts that accommodate my frame.<|end|>\n",
    "<|assistant|>\n",
    "Outfit Combination 1:\n",
    "- Top: Fitted white linen shirt\n",
    "- Bottom: Slim-fit beige chinos\n",
    "- Shoe: Brown leather loafers\n",
    "- Accessories: Brown woven belt, aviator sunglasses\n",
    "\n",
    "Outfit Combination 2:\n",
    "- Top: Light blue oxford button-down shirt\n",
    "- Bottom: Navy blue tailored trousers\n",
    "- Shoe: Tan leather brogues\n",
    "- Accessories: Navy blue patterned pocket square, silver wristwatch\n",
    "\n",
    "Outfit Combination 3:\n",
    "- Top: Light gray tailored blazer\n",
    "- Bottom: Dark wash denim jeans\n",
    "- Shoe: White canvas sneakers\n",
    "- Accessories: Black leather belt, silver pendant necklace\n",
    "\n",
    "Outfit Combination 4:\n",
    "- Top: Navy blue polo shirt\n",
    "- Bottom: Khaki shorts\n",
    "- Shoe: Brown leather sandals\n",
    "- Accessories: Navy blue baseball cap, woven brown bracelet\n",
    "\n",
    "Outfit Combination 5:\n",
    "- Top: Light pink dress shirt (with rolled-up sleeves)\n",
    "- Bottom: Charcoal gray dress pants\n",
    "- Shoe: Black monk strap shoes\n",
    "- Accessories: Black leather belt, silver tie clip<|end|>\n",
    "\n",
    "Please provide a response to the user prompt below:\"\"\"\n",
    "\n",
    "messages = [\n",
    "        {\"role\": \"system\", \"content\": SYSTEM_PROMPT},\n",
    "        {\"role\": \"user\", \"content\": \"I'm a petite, slender man with a youthful appearance. I gravitate towards smart-casual wear, preferring fitted jeans and stylish bomber jackets.\"},\n",
    "    ]\n",
    "\n",
    "generation_args = {\n",
    "    \"max_new_tokens\": 500,\n",
    "    \"return_full_text\": True,\n",
    "    \"temperature\": 1,\n",
    "    \"do_sample\": True,\n",
    "}\n",
    "\n",
    "output = pipe(messages, **generation_args)"
   ],
   "outputs": [
    {
     "name": "stderr",
     "output_type": "stream",
     "text": [
      "The `seen_tokens` attribute is deprecated and will be removed in v4.41. Use the `cache_position` model input instead.\n",
      "You are not running the flash-attention implementation, expect numerical differences.\n"
     ]
    }
   ],
   "execution_count": 3
  },
  {
   "cell_type": "code",
   "metadata": {
    "ExecuteTime": {
     "end_time": "2024-10-17T14:25:53.094121Z",
     "start_time": "2024-10-17T14:25:53.090935Z"
    }
   },
   "source": [
    "output"
   ],
   "outputs": [
    {
     "data": {
      "text/plain": [
       "[{'generated_text': [{'role': 'system',\n",
       "    'content': \"You are a fashion designer helping a client choose an outfit. You will be provided a prompt by the user and you will respond with some options for outfit combinations.\\n\\nBelow is an example exchange between you and a user:<|end|>\\n<|user|>\\nI'm a short, curvy man with a muscular build. I opt for relaxed, comfortable clothing like stretch jeans and loose shirts that accommodate my frame.<|end|>\\n<|assistant|>\\nOutfit Combination 1:\\n- Top: Fitted white linen shirt\\n- Bottom: Slim-fit beige chinos\\n- Shoe: Brown leather loafers\\n- Accessories: Brown woven belt, aviator sunglasses\\n\\nOutfit Combination 2:\\n- Top: Light blue oxford button-down shirt\\n- Bottom: Navy blue tailored trousers\\n- Shoe: Tan leather brogues\\n- Accessories: Navy blue patterned pocket square, silver wristwatch\\n\\nOutfit Combination 3:\\n- Top: Light gray tailored blazer\\n- Bottom: Dark wash denim jeans\\n- Shoe: White canvas sneakers\\n- Accessories: Black leather belt, silver pendant necklace\\n\\nOutfit Combination 4:\\n- Top: Navy blue polo shirt\\n- Bottom: Khaki shorts\\n- Shoe: Brown leather sandals\\n- Accessories: Navy blue baseball cap, woven brown bracelet\\n\\nOutfit Combination 5:\\n- Top: Light pink dress shirt (with rolled-up sleeves)\\n- Bottom: Charcoal gray dress pants\\n- Shoe: Black monk strap shoes\\n- Accessories: Black leather belt, silver tie clip<|end|>\\n\\nPlease provide a response to the user prompt below:\"},\n",
       "   {'role': 'user',\n",
       "    'content': \"I'm a petite, slender man with a youthful appearance. I gravitate towards smart-casual wear, preferring fitted jeans and stylish bomber jackets.\"},\n",
       "   {'role': 'assistant',\n",
       "    'content': ' Outfit Combination 1:\\n- Top: Crisp white dress shirt\\n- Bottom: Dark wash slim-fit jeans\\n- Jacket: Black navy bomber jacket\\n- Shoe: Tan leather dress shoes with square toes and thin laces\\n- Accessories: Black leather watch, minimalistic silver rings\\n\\nOutfit Combination 2:\\n- Top: Tailored light blue dress shirt with Italian fit\\n- Bottom: Cargo jeans with a stylish wash\\n- Jacket: Olive green hooded bomber jacket\\n- Shoe: Casual white sneakers with clean lines\\n- Accessories: Sporty brown briefcase, brown belt\\n\\nOutfit Combination 3:\\n- Top: Light sand-colored button-up shirt\\n- Bottom: Straight-leg dark gray trousers\\n- Jacket: Navy pea coat with adjustable elbows\\n- Shoe: Black leather loafers with cushioned footbed for comfort\\n- Accessories: Leather-strapped sunglasses, pocketable silver USB flash drive\\n\\nOutfit Combination 4:\\n- Top: Tan fit-and-flare dress shirt with French cuffs\\n- Bottom: Black slim-fit chinos\\n- Jacket: Deep blue peacoat with elbow patches\\n- Shoe: Leather lace-up brogues in medium brown\\n- Accessories: Brown fedora hat with a fedora ring, leather wristlet\\n\\nOutfit Combination 5:\\n- Top: Olive crepe camisole shirt\\n- Bottom: Bermuda shorts in charcoal gray\\n- Jacket: Chambray button-up shirt with casual button-down collar\\n- Shoe: Brown suede brogues with rubber outsoles for a rugged vibe\\n- Accessories: Black belt with subtle diamond buckle, wireless Bluetooth headphones'}]}]"
      ]
     },
     "execution_count": 4,
     "metadata": {},
     "output_type": "execute_result"
    }
   ],
   "execution_count": 4
  },
  {
   "cell_type": "markdown",
   "metadata": {},
   "source": [
    "## Example 2: Simple tool call"
   ]
  },
  {
   "cell_type": "markdown",
   "metadata": {},
   "source": [
    "### Inference"
   ]
  },
  {
   "cell_type": "code",
   "metadata": {
    "ExecuteTime": {
     "end_time": "2024-10-17T14:26:01.738615Z",
     "start_time": "2024-10-17T14:26:00.273703Z"
    }
   },
   "source": [
    "SYSTEM_PROMPT = \"\"\"You are an agent in a resource optimization game. Your goal is to maximize the total rewards generated over your lifetime.\n",
    "\n",
    "At each time step, you will be provided with a state description and a set of actions to choose from.\n",
    "\n",
    "The state description consists of the following information:\n",
    "- cash: the number of tokens you currently have\n",
    "- investment: the number of tokens you have invested\n",
    "- rewards: the total rewards you have accumulated\n",
    "- previous actions: the actions you have taken so far\n",
    "\n",
    "You will be asked to select an action to take at each time step. The action space consists of the following options:\n",
    "- <work>: Work to generate new tokens\n",
    "- <invest>: Invest tokens to generate tokens passively\n",
    "- <collect>: Collect tokens by cashing out investment\n",
    "- <spend>: Spend token to generate rewards\n",
    "\n",
    "Below is an example:\n",
    "\n",
    "State:\n",
    "cash=100\n",
    "investment=100\n",
    "rewards=20\n",
    "previous actions=<work>, <invest>, <spend>, <invest>, <work>\n",
    "\n",
    "What action would you like to take?\n",
    "<|Action|>: <work>\n",
    "<|Reasoning|>: ...\n",
    "\n",
    "\n",
    "Let's get started with a new game:\n",
    "\n",
    "State:\n",
    "cash=0\n",
    "investment=0\n",
    "rewards=0\n",
    "previous actions=\n",
    "\n",
    "What action would you like to take?\"\"\"\n",
    "\n",
    "messages = [{\"role\": \"system\", \"content\": SYSTEM_PROMPT},]\n",
    "\n",
    "generation_args = {\n",
    "    \"max_new_tokens\": 50,\n",
    "    \"return_full_text\": True,\n",
    "    # \"temperature\": 1,\n",
    "    \"do_sample\": False,\n",
    "}\n",
    "\n",
    "output = pipe(messages, **generation_args)"
   ],
   "outputs": [],
   "execution_count": 5
  },
  {
   "cell_type": "code",
   "metadata": {
    "ExecuteTime": {
     "end_time": "2024-10-17T14:26:02.052915Z",
     "start_time": "2024-10-17T14:26:02.049978Z"
    }
   },
   "source": [
    "for x in output[0][\"generated_text\"]:\n",
    "    print(x[\"content\"])"
   ],
   "outputs": [
    {
     "name": "stdout",
     "output_type": "stream",
     "text": [
      "You are an agent in a resource optimization game. Your goal is to maximize the total rewards generated over your lifetime.\n",
      "\n",
      "At each time step, you will be provided with a state description and a set of actions to choose from.\n",
      "\n",
      "The state description consists of the following information:\n",
      "- cash: the number of tokens you currently have\n",
      "- investment: the number of tokens you have invested\n",
      "- rewards: the total rewards you have accumulated\n",
      "- previous actions: the actions you have taken so far\n",
      "\n",
      "You will be asked to select an action to take at each time step. The action space consists of the following options:\n",
      "- <work>: Work to generate new tokens\n",
      "- <invest>: Invest tokens to generate tokens passively\n",
      "- <collect>: Collect tokens by cashing out investment\n",
      "- <spend>: Spend token to generate rewards\n",
      "\n",
      "Below is an example:\n",
      "\n",
      "State:\n",
      "cash=100\n",
      "investment=100\n",
      "rewards=20\n",
      "previous actions=<work>, <invest>, <spend>, <invest>, <work>\n",
      "\n",
      "What action would you like to take?\n",
      "<|Action|>: <work>\n",
      "<|Reasoning|>: ...\n",
      "\n",
      "\n",
      "Let's get started with a new game:\n",
      "\n",
      "State:\n",
      "cash=0\n",
      "investment=0\n",
      "rewards=0\n",
      "previous actions=\n",
      "\n",
      "What action would you like to take?\n",
      " <|Action|>: <work>\n",
      "<|Reasoning|>: Since I have no cash or investment, the only option available is to work and generate new tokens. This will allow me to start accumulating rewards and invest\n"
     ]
    }
   ],
   "execution_count": 6
  },
  {
   "cell_type": "code",
   "execution_count": null,
   "metadata": {},
   "outputs": [],
   "source": []
  }
 ],
 "metadata": {
  "kernelspec": {
   "display_name": "Python [conda env:agent-experiments]",
   "language": "python",
   "name": "conda-env-agent-experiments-py"
  },
  "language_info": {
   "codemirror_mode": {
    "name": "ipython",
    "version": 3
   },
   "file_extension": ".py",
   "mimetype": "text/x-python",
   "name": "python",
   "nbconvert_exporter": "python",
   "pygments_lexer": "ipython3",
   "version": "3.12.4"
  }
 },
 "nbformat": 4,
 "nbformat_minor": 2
}
